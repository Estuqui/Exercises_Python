{
  "nbformat": 4,
  "nbformat_minor": 0,
  "metadata": {
    "colab": {
      "provenance": [],
      "authorship_tag": "ABX9TyOgTKjbd29TfnN+49/pImJ3",
      "include_colab_link": true
    },
    "kernelspec": {
      "name": "python3",
      "display_name": "Python 3"
    },
    "language_info": {
      "name": "python"
    }
  },
  "cells": [
    {
      "cell_type": "markdown",
      "metadata": {
        "id": "view-in-github",
        "colab_type": "text"
      },
      "source": [
        "<a href=\"https://colab.research.google.com/github/Estuqui/Exercises_Python/blob/main/main.ipynb\" target=\"_parent\"><img src=\"https://colab.research.google.com/assets/colab-badge.svg\" alt=\"Open In Colab\"/></a>"
      ]
    },
    {
      "cell_type": "code",
      "execution_count": null,
      "metadata": {
        "id": "4h58TSMp38d8"
      },
      "outputs": [],
      "source": [
        "dados = input(\"Digite seu nome, sobrenome, idade e cidade separados por vírgula: \")\n",
        "valores = dados.split(',')\n",
        "\n",
        "if len(valores) == 4:\n",
        "  nome = valores[0].strip()\n",
        "  sobrenome = valores[1].strip()\n",
        "  idade = int(valores[2].strip())\n",
        "  cidade = valores[3].split()\n",
        "\n",
        "  dados = [nome, sobrenome, idade, cidade]\n",
        "\n",
        "  print(\"Dados:\", dados)\n",
        "\n",
        "else:\n",
        "  print(\"Certifique-se de fornecer exatamente 4 valores separados por vírgula.\")\n",
        "\n"
      ]
    },
    {
      "cell_type": "code",
      "source": [
        "option = input(\"Digite a opção que desejar: 1. somatória | 2. subtração | 3. multiplicação | 4. divisão\")\n",
        "Num1 = input(\"Digite o 1° valor: \")\n",
        "Num2 = input(\"Digite o 2° valor: \")\n",
        "\n",
        "Num1 = float(Num1)\n",
        "Num2 = float(Num2)\n",
        "\n",
        "if option == \"1\":\n",
        "  total = Num1 + Num2\n",
        "  print(\"A somatória dos valores é: \",total)\n",
        "\n",
        "elif option == \"2\":\n",
        "  total = Num1 - Num2\n",
        "  print(\"A subtração dos valores é: \",total)\n",
        "\n",
        "elif option == \"3\":\n",
        "  total = Num1 * Num2\n",
        "  print(\"A multiplicação dos valores é\",total)\n",
        "\n",
        "elif option == \"4\":\n",
        "  if Num2 == 0:\n",
        "    print(\"Não possível dividir um número por zero\")\n",
        "\n",
        "  else:\n",
        "    total = Num1 / Num2\n",
        "    print(\"A divisão dos valores é:\",total)\n",
        "else:\n",
        "  print(\"Opção inválida, selecione uma opção válida.\")\n"
      ],
      "metadata": {
        "id": "y9fZzopi7Gf2"
      },
      "execution_count": null,
      "outputs": []
    },
    {
      "cell_type": "code",
      "source": [
        "print(\"Calculadora de IMC feita em Python\")\n",
        "print(\"Digite seu peso e sua altura conforme exemplo para conseguirmos processar. Ex: Seu peso é: 56.7kg e sua altura é 1.76cm\")\n",
        "\n",
        "peso = float(input(\"Digite seu peso (kg): \"))\n",
        "altura = float(input(\"Digite sua altura (cm): \"))\n",
        "\n",
        "imc = peso / altura ** 2\n",
        "mensagem = \"IMC: {0:.2f} \\nIMC {1} classifica-se como {2}. O seu IMC de acordo com a OMS está {3} do recomendado para sua altura\"\n",
        "\n",
        "if imc <= 18.5:\n",
        "  print(mensagem.format(imc, \"menor ou igual a 18.5\", \"Magreza\", \"abaixo\"))\n",
        "\n",
        "elif imc <= 24.9:\n",
        "  print(mensagem.format(imc, \"entre 18.5 e 24.9\", \"Normal\", \"normal\"))\n",
        "\n",
        "elif imc <= 29.9:\n",
        "  print(mensagem.format(imc, \"entre 24.9 e 29.9\", \"Sobrepeso\", \"acima\"))\n",
        "\n",
        "elif imc <= 34.9:\n",
        "  print(mensagem.format(imc, \"entre 29.9 e 34.9\", \"Obesidade Grau I\", \"acima\"))\n",
        "\n",
        "elif imc <= 39.9:\n",
        "  print(mensagem.format(imc, \"entre 34.9 e 39.9\", \"Obesidade Grau II\", \"acima\"))\n",
        "\n",
        "elif imc < 40:\n",
        "  print(mensagem.format(imc, \"acima de 40\", \"Obesidade Grau III\", \"acima\"))\n"
      ],
      "metadata": {
        "id": "QXoBiLNOETTg"
      },
      "execution_count": null,
      "outputs": []
    },
    {
      "cell_type": "code",
      "source": [
        "print(\"Calculadora de notas médias (Somente 2 notas por vez)\")\n",
        "Num1 = input(\"Digite sua 1a nota: \")\n",
        "Num2 = input(\"Digite sua 2a nota: \")\n",
        "\n",
        "Num1 = float(Num1)\n",
        "Num2 = float(Num2)\n",
        "\n",
        "media = (Num1 + Num2)/2\n",
        "\n",
        "print(\"Sua média é: \", media)\n",
        "\n"
      ],
      "metadata": {
        "id": "qZDvYWMnHYAW"
      },
      "execution_count": null,
      "outputs": []
    },
    {
      "cell_type": "code",
      "source": [
        "print(\"Verificação de números primos\")\n",
        "numero = int(input(\"Digite um número: \"))\n",
        "\n",
        "if numero > 1:\n",
        "  for i in range(2, numero):\n",
        "    if (numero % i) == 0:\n",
        "      print(numero, \"Não é primo\")\n",
        "      break\n",
        "\n",
        "  else:\n",
        "    print(numero, \"É um número primo\")\n",
        "\n",
        "else:\n",
        "    print(numero, \"não é um número primo.\")"
      ],
      "metadata": {
        "id": "P_IuEVZELW6t"
      },
      "execution_count": null,
      "outputs": []
    },
    {
      "cell_type": "code",
      "source": [],
      "metadata": {
        "id": "PpcVSLCRMtVj"
      },
      "execution_count": null,
      "outputs": []
    }
  ]
}